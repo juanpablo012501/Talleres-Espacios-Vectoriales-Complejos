{
 "cells": [
  {
   "cell_type": "markdown",
   "id": "c7d4de9a-e7dc-4cf3-bd8d-7da869ceb9ac",
   "metadata": {},
   "source": [
    "# Hermitian Matrices, Unitary Matrices and Tensor Product"
   ]
  },
  {
   "cell_type": "markdown",
   "id": "007db568-62bf-4098-a52f-281b41db3012",
   "metadata": {},
   "source": [
    "\n",
    "# Understanding Complex Hermitian and Unitary Matrices\n",
    "\n",
    "This tutorial delves into two pivotal concepts in quantum computing and linear algebra: complex Hermitian and Unitary matrices. Both play critical roles in quantum mechanics and quantum computing, underpinning the behavior of quantum systems and the operations performed on them.\n",
    "\n",
    "## Objectives\n",
    "- Define and explore the properties of complex Hermitian matrices.\n",
    "- Understand and implement complex Unitary matrices in Python.\n",
    "- Highlight their significance and applications in quantum computing.\n",
    "\n",
    "Prepare to enhance your mathematical toolkit with these foundational concepts, illustrated with Python examples for a hands-on learning experience.\n"
   ]
  },
  {
   "cell_type": "markdown",
   "id": "172b4789-ccc2-41be-ae1b-fff456a76c41",
   "metadata": {},
   "source": [
    "\n",
    "## Complex Hermitian Matrices\n",
    "\n",
    "A Hermitian matrix, or self-adjoint matrix, is a square matrix that is equal to its own conjugate transpose. This property makes it a natural representation of observable quantities in quantum mechanics.\n",
    "\n",
    "### Properties\n",
    "- The eigenvalues of a Hermitian matrix are always real.\n",
    "- The eigenvectors of a Hermitian matrix corresponding to different eigenvalues are orthogonal.\n",
    "- Hermitian matrices are extensively used in quantum mechanics to describe physical observables.\n",
    "\n",
    "### Python Example: Defining a Hermitian Matrix\n"
   ]
  },
  {
   "cell_type": "code",
   "execution_count": 5,
   "id": "be7b7f14-c501-4fd9-a482-73f4acf8bfd9",
   "metadata": {},
   "outputs": [
    {
     "data": {
      "text/plain": [
       "(True,\n",
       " array([[2.+0.j, 2.-1.j],\n",
       "        [2.+1.j, 3.+0.j]]))"
      ]
     },
     "execution_count": 5,
     "metadata": {},
     "output_type": "execute_result"
    }
   ],
   "source": [
    "\n",
    "import numpy as np\n",
    "\n",
    "# Define a complex Hermitian matrix\n",
    "hermitian_matrix = np.array([[2+0j, 2-1j], [2+1j, 3+0j]])\n",
    "\n",
    "# Check if the matrix is Hermitian\n",
    "is_hermitian = np.allclose(hermitian_matrix, hermitian_matrix.conj().T)\n",
    "\n",
    "is_hermitian, hermitian_matrix\n"
   ]
  },
  {
   "cell_type": "markdown",
   "id": "6c6e41c4-7edb-46e0-b5a3-9dc381541312",
   "metadata": {},
   "source": [
    "\n",
    "## Complex Unitary Matrices\n",
    "\n",
    "A Unitary matrix is a square matrix whose conjugate transpose is also its inverse. Unitary matrices preserve the inner product, making them essential for describing quantum gates and evolution in quantum computing.\n",
    "\n",
    "### Properties\n",
    "- Preserves the norm of vectors, hence preserving quantum states during transformations.\n",
    "- The determinant of a Unitary matrix has an absolute value of 1.\n",
    "- Used to represent reversible quantum operations and time evolution in quantum systems.\n",
    "\n",
    "### Python Example: Defining a Unitary Matrix\n"
   ]
  },
  {
   "cell_type": "code",
   "execution_count": null,
   "id": "72119954-9647-4f66-93e9-c014c05bb48c",
   "metadata": {},
   "outputs": [],
   "source": [
    "\n",
    "# Define a complex Unitary matrix\n",
    "unitary_matrix = np.array([[1/np.sqrt(2), 1/np.sqrt(2)], [1/np.sqrt(2)*1j, -1/np.sqrt(2)*1j]])\n",
    "\n",
    "# Check if the matrix is Unitary\n",
    "# np.eye(2) returns the identity of size 2x2\n",
    "is_unitary = np.allclose(np.dot(unitary_matrix, unitary_matrix.conj().T), np.eye(2))\n",
    "\n",
    "is_unitary, unitary_matrix\n"
   ]
  },
  {
   "cell_type": "markdown",
   "id": "85750bcf-34ab-49ab-9163-509b29e719c9",
   "metadata": {},
   "source": [
    "# Tensor product"
   ]
  },
  {
   "cell_type": "markdown",
   "id": "b85487ee-1d19-47ab-a0a7-e05c8b758b13",
   "metadata": {},
   "source": [
    "\n",
    "## Tensor Product for Complex Vectors\n",
    "\n",
    "The tensor product of two complex vectors creates a new vector in a higher-dimensional space, allowing us to combine quantum states in quantum computing.\n",
    "\n",
    "### Example\n"
   ]
  },
  {
   "cell_type": "code",
   "execution_count": null,
   "id": "c4619aad-e04f-4787-a8ff-8e324f13b816",
   "metadata": {},
   "outputs": [],
   "source": [
    "\n",
    "import numpy as np\n",
    "\n",
    "# Define two complex vectors for the tensor product\n",
    "v1 = np.array([1+2j, 3+4j])\n",
    "v2 = np.array([5+6j, 7+8j])\n",
    "\n",
    "# Calculate the tensor product\n",
    "tensor_product_v = np.kron(v1, v2)\n",
    "\n",
    "tensor_product_v\n"
   ]
  },
  {
   "cell_type": "markdown",
   "id": "aa89e379-8ce8-493d-8b0e-6461a7fc1325",
   "metadata": {},
   "source": [
    "\n",
    "## Tensor Product for Complex Matrices\n",
    "\n",
    "The tensor product for matrices combines individual matrices into a larger matrix, crucial for representing multiple qubit systems in quantum computing.\n",
    "\n",
    "### Example\n"
   ]
  },
  {
   "cell_type": "code",
   "execution_count": null,
   "id": "c558e2f2-8ecf-466a-8fb4-469566157419",
   "metadata": {},
   "outputs": [],
   "source": [
    "\n",
    "# Define two complex matrices for the tensor product\n",
    "M1 = np.array([[1+2j, 3+4j], [5+6j, 7+8j]])\n",
    "M2 = np.array([[9+10j, 11+12j], [13+14j, 15+16j]])\n",
    "\n",
    "# Calculate the tensor product\n",
    "tensor_product_m = np.kron(M1, M2)\n",
    "\n",
    "tensor_product_m\n"
   ]
  },
  {
   "cell_type": "markdown",
   "id": "ffa82608-ea8c-4bc7-b357-a8552a649f0c",
   "metadata": {},
   "source": [
    "# Exercises on Complex Vector and Matrix Operations\n",
    "\n",
    "This set of exercises is designed to test your understanding of various concepts related to complex vector and matrix operations, which are foundational in quantum computing. Each exercise presents a concrete case for you to apply what you've learned about Hermitian matrices, Unitary matrices, and tensor products.\n",
    "\n",
    "NOTE: VERIFY YOUR COMPUTATIONS IN PAPER AND IN THE COMPUTER.\n",
    "\n",
    "## Exercise 1: Complex Hermitian Matrices\n",
    "\n",
    "Consider the matrix:\n",
    "\n",
    "$$ H = \\begin{bmatrix} 3 & 2+i \\\\ 2-i & 1 \\end{bmatrix} $$\n",
    "\n",
    "- Verify if $ H $ is a Hermitian matrix.\n",
    "- If it is, find its eigenvalues.\n",
    "\n",
    "## Exercise 2: Complex Unitary Matrices\n",
    "\n",
    "Consider the matrix:\n",
    "\n",
    "$$ U = \\frac{1}{\\sqrt{2}}\\begin{bmatrix} 1 & i \\\\ i & 1 \\end{bmatrix} $$\n",
    "\n",
    "- Verify if $ U $ is a Unitary matrix.\n",
    "- Compute $ UU^\\dagger $ to confirm its Unitarity, where $ U^\\dagger $ denotes the conjugate transpose of $ U $.\n",
    "\n",
    "## Exercise 3: Tensor Product for Complex Vectors\n",
    "\n",
    "Given the complex vectors:\n",
    "\n",
    "$$ \\mathbf{v} = \\begin{bmatrix} 1+i \\\\ 2-i \\end{bmatrix}, \\quad \\mathbf{w} = \\begin{bmatrix} 1-2i \\\\ 3 \\end{bmatrix} $$\n",
    "\n",
    "Calculate the tensor product $ \\mathbf{v} \\otimes \\mathbf{w} $.\n",
    "\n",
    "## Exercise 4: Tensor Product for Complex Matrices\n",
    "\n",
    "Given the matrices:\n",
    "\n",
    "$$ M_1 = \\begin{bmatrix} 0 & 1 \\\\ 1 & 0 \\end{bmatrix}, \\quad M_2 = \\begin{bmatrix} i & 0 \\\\ 0 & -i \\end{bmatrix} $$\n",
    "\n",
    "Calculate the tensor product $ M_1 \\otimes M_2 $.\n",
    "\n",
    "## Exercise 5: Modelling quantum computations with vectors and matrices\n",
    "\n",
    "Using matrices and vectors, implement a model of the Mach/Zehnder interferometer.\n",
    "\n",
    "![Mach-Zehnder interferometer](images/Mach-Zehnder-Interferometer.png)\n",
    "\n",
    "## Exercise 6: Composing quantum systems \n",
    "\n",
    "Using matrices and vectors, implement a model of the following circuit.\n",
    "\n",
    "![Mach-Zehnder interferometer](images/Deutsch-Algorithm.png)\n",
    "\n",
    "Use the following MAtrix for $U_f$:\n",
    "\n",
    "![Mach-Zehnder interferometer](images/ExampleUf.png)\n",
    "\n"
   ]
  },
  {
   "cell_type": "markdown",
   "id": "2638110d-e55d-4390-9ace-e0e3001c0691",
   "metadata": {},
   "source": [
    "# Exercise solutions on Complex Vector and Matrix Operations\n",
    "\n",
    "## Solution 1: Complex Hermitian Matrices\n",
    "\n",
    "Consider the matrix:\n",
    "\n",
    "$$ H = \\begin{bmatrix} 3 & 2+i \\\\ 2-i & 1 \\end{bmatrix} $$\n",
    "\n",
    "- Verify if $ H $ is a Hermitian matrix.\n",
    "- If it is, find its eigenvalues.\n",
    "\n",
    "## Solution \n",
    "\n",
    "First of all a hermitian metrix is a square matrix, so it sitisfies the first condition, Now lets show its conjugate\n",
    "$$ \\begin{bmatrix} 3 & 2-i \\\\ 2+i & 1 \\end{bmatrix} $$\n",
    "Finaly, lets transpose it and see if it is equal to H\n",
    "$$ \\begin{bmatrix} 3 & 2+i \\\\ 2-i & 1 \\end{bmatrix}  = H$$\n",
    "So, it is heritian and its eigen values are:\n",
    "$$-0.44948974$$\n",
    "and\n",
    "$$4.44948974$$"
   ]
  },
  {
   "cell_type": "code",
   "execution_count": 8,
   "id": "209f15d7-8d9b-4b35-ad89-cbed384b95c7",
   "metadata": {},
   "outputs": [
    {
     "name": "stdout",
     "output_type": "stream",
     "text": [
      "True\n",
      "[[3.-0.j 2.-1.j]\n",
      " [2.+1.j 1.-0.j]]\n"
     ]
    }
   ],
   "source": [
    "import numpy as np\n",
    "h = np.array([[3, 2+1j],[2-1j, 1]])\n",
    "ch = np.conjugate(h)\n",
    "print(ch)"
   ]
  },
  {
   "cell_type": "code",
   "execution_count": 2,
   "id": "19679672-258e-41fc-b640-63cd97649607",
   "metadata": {},
   "outputs": [
    {
     "name": "stdout",
     "output_type": "stream",
     "text": [
      "[[3.-0.j 2.+1.j]\n",
      " [2.-1.j 1.-0.j]]\n"
     ]
    }
   ],
   "source": [
    "import numpy as np\n",
    "h = np.array([[3, 2+1j],[2-1j, 1]])\n",
    "ch = np.conjugate(h)\n",
    "tch = ch.T\n",
    "print(tch)"
   ]
  },
  {
   "cell_type": "code",
   "execution_count": 10,
   "id": "347d9e93-1e42-48ec-afe5-054b1e891f34",
   "metadata": {},
   "outputs": [
    {
     "name": "stdout",
     "output_type": "stream",
     "text": [
      "[-0.44948974  4.44948974]\n"
     ]
    }
   ],
   "source": [
    "import numpy as np\n",
    "h = np.array([[3, 2+1j],[2-1j, 1]])\n",
    "evals, evecs = np.linalg.eigh(h)\n",
    "print(evals)"
   ]
  },
  {
   "cell_type": "markdown",
   "id": "02696226-104b-4b87-bb65-b66c4f3a3fa9",
   "metadata": {},
   "source": [
    "## Solution 2: Complex Unitary Matrices\n",
    "\n",
    "Consider the matrix:\n",
    "\n",
    "$$ U = \\frac{1}{\\sqrt{2}}\\begin{bmatrix} 1 & i \\\\ i & 1 \\end{bmatrix} $$\n",
    "\n",
    "- Verify if $ U $ is a Unitary matrix.\n",
    "- Compute $ UU^\\dagger $ to confirm its Unitarity, where $ U^\\dagger $ denotes the conjugate transpose of $ U $.\n",
    "\n",
    "## Solution\n",
    "Note that:\n",
    "$$ \\frac{1}{\\sqrt{2}}\\begin{bmatrix} 1 & i \\\\ i & 1 \\end{bmatrix} * \\frac{1}{\\sqrt{2}}\\begin{bmatrix} 1 & -i \\\\ -i & 1 \\end{bmatrix} = \\frac{1}{2}\\begin{bmatrix} 2 & 0 \\\\ 0 & 2 \\end{bmatrix} = \\begin{bmatrix} 1 & 0 \\\\ 0 & 1 \\end{bmatrix} $$\n"
   ]
  },
  {
   "cell_type": "code",
   "execution_count": 17,
   "id": "9ca457d9-dad9-47cc-88e9-b562e0889b93",
   "metadata": {},
   "outputs": [
    {
     "name": "stdout",
     "output_type": "stream",
     "text": [
      "[[2.+0.j 0.+0.j]\n",
      " [0.+0.j 2.+0.j]]\n"
     ]
    }
   ],
   "source": [
    "import numpy as np\n",
    "u = np.array([[1, 1j], [1j, 1]])\n",
    "udag = np.conjugate(u.T)\n",
    "print(np.dot(u, udag))"
   ]
  },
  {
   "cell_type": "markdown",
   "id": "13e393f8-2e5e-4a70-96da-6d2a44c061c7",
   "metadata": {},
   "source": [
    "## Solution 3: Tensor Product for Complex Vectors\n",
    "\n",
    "Given the complex vectors:\n",
    "\n",
    "$$ \\mathbf{v} = \\begin{bmatrix} 1+i \\\\ 2-i \\end{bmatrix}, \\quad \\mathbf{w} = \\begin{bmatrix} 1-2i \\\\ 3 \\end{bmatrix} $$\n",
    "\n",
    "Calculate the tensor product $ \\mathbf{v} \\otimes \\mathbf{w} $.\n",
    "## Solution\n",
    "$$ \\begin{bmatrix} 1+i \\\\ 2-i \\end{bmatrix} \\otimes \\begin{bmatrix} 1-2i \\\\ 3 \\end{bmatrix} = \\begin{bmatrix} 3- i \\\\ 3 + 3i \\\\ -5i \\\\ 6 - 3i \\end{bmatrix}$$"
   ]
  },
  {
   "cell_type": "code",
   "execution_count": 18,
   "id": "42d8ed86-b856-4d47-994e-03a40c3f241a",
   "metadata": {},
   "outputs": [
    {
     "name": "stdout",
     "output_type": "stream",
     "text": [
      "[3.-1.j 3.+3.j 0.-5.j 6.-3.j]\n"
     ]
    }
   ],
   "source": [
    "import numpy as np\n",
    "\n",
    "# Define two complex vectors for the tensor product\n",
    "v1 = np.array([1+1j, 2-1j])\n",
    "v2 = np.array([1-2j, 3])\n",
    "\n",
    "# Calculate the tensor product\n",
    "tensor_product_v = np.kron(v1, v2)\n",
    "print(tensor_product_v)"
   ]
  },
  {
   "cell_type": "markdown",
   "id": "bfc7291f-b56b-4e53-9883-85b553aefc18",
   "metadata": {},
   "source": [
    "## Solution 4: Tensor Product for Complex Matrices\n",
    "\n",
    "Given the matrices:\n",
    "\n",
    "$$ M_1 = \\begin{bmatrix} 0 & 1 \\\\ 1 & 0 \\end{bmatrix}, \\quad M_2 = \\begin{bmatrix} i & 0 \\\\ 0 & -i \\end{bmatrix} $$\n",
    "\n",
    "Calculate the tensor product $ M_1 \\otimes M_2 $.\n",
    "\n",
    "## Solution\n",
    "$$ \\begin{bmatrix} 0 & 1 \\\\ 1 & 0 \\end{bmatrix}, \\otimes \\begin{bmatrix} i & 0 \\\\ 0 & -i \\end{bmatrix} = \\begin{bmatrix} 0 & 0 & i & 0 \\\\ 0 & 0 & 0 & -i \\\\ i & 0 & 0 & 0 \\\\ 0 & -i & 0 & 0 \\end{bmatrix} $$"
   ]
  },
  {
   "cell_type": "code",
   "execution_count": 20,
   "id": "613fb715-5509-4d92-a0d1-45eca254d451",
   "metadata": {},
   "outputs": [
    {
     "name": "stdout",
     "output_type": "stream",
     "text": [
      "[[0.+0.j 0.+0.j 0.+1.j 0.+0.j]\n",
      " [0.+0.j 0.-0.j 0.+0.j 0.-1.j]\n",
      " [0.+1.j 0.+0.j 0.+0.j 0.+0.j]\n",
      " [0.+0.j 0.-1.j 0.+0.j 0.-0.j]]\n"
     ]
    }
   ],
   "source": [
    "import numpy as np\n",
    "m1 = np.array([[0, 1],[1, 0]])\n",
    "m2 = np.array([[1j, 0],[0, -1j]])\n",
    "\n",
    "tenMat = np.kron(m1, m2)\n",
    "print(tenMat)"
   ]
  },
  {
   "cell_type": "markdown",
   "id": "26977c2b-6181-40ef-91a8-266da0fcdfde",
   "metadata": {},
   "source": [
    "## Solution 5: Modelling quantum computations with vectors and matrices\n",
    "\n",
    "Using matrices and vectors, implement a model of the Mach/Zehnder interferometer.\n",
    "# Solution\n",
    "first we have a state\n",
    "$$ \\psi_{0} = \\begin{bmatrix} 1 \\\\ 0 \\end{bmatrix}$$\n",
    "Then we aplay the matrix X onto this vector and get the new state:\n",
    "$$ \\psi_{1} = {X}*\\psi_{0} = \\frac{1}{\\sqrt{2}}\\begin{bmatrix} 1 & 1 \\\\ 1 & -1 \\end{bmatrix}*\\begin{bmatrix} 1 \\\\ 0 \\end{bmatrix} = \\frac{1}{\\sqrt{2}}\\begin{bmatrix} 1 \\\\ 1 \\end{bmatrix}$$\n",
    "Next, we aply the matrix X over the system and get:\n",
    "$$ \\psi_{2} = X * \\psi_{1} = \\begin{bmatrix} 0 & 1 \\\\ 1 & 0 \\end{bmatrix}*(\\frac{1}{\\sqrt{2}}\\begin{bmatrix} 1 \\\\ 1 \\end{bmatrix}) = \\frac{1}{\\sqrt{2}}\\begin{bmatrix} 1 \\\\ 1 \\end{bmatrix}$$\n",
    "finaly, we aply H again and get:\n",
    "$$ \\psi_{3} = H * \\psi_{2} = \\frac{1}{\\sqrt{2}}*\\begin{bmatrix} 1 & 1 \\\\ 1 & -1 \\end{bmatrix}*(\\frac{1}{\\sqrt{2}}\\begin{bmatrix} 1 \\\\ 0 \\end{bmatrix}) = \\frac{1}{2}\\begin{bmatrix} 1 \\\\ 0 \\end{bmatrix}$$"
   ]
  },
  {
   "cell_type": "code",
   "execution_count": 48,
   "id": "a1169a0b-a873-4ee4-a3a5-0fdee2ef4717",
   "metadata": {},
   "outputs": [
    {
     "name": "stdout",
     "output_type": "stream",
     "text": [
      "[[0.70710678]\n",
      " [0.70710678]]\n",
      "\n",
      "[[0.70710678]\n",
      " [0.70710678]]\n",
      "\n",
      "[[1.00000000e+00]\n",
      " [2.23711432e-17]]\n"
     ]
    }
   ],
   "source": [
    "import numpy as np\n",
    "v0 = np.array([[1],[0]])\n",
    "H = (1/(np.sqrt(2)))*(np.array([[1, 1],[1, -1]]))\n",
    "X = np.array([[0, 1],[1, 0]])\n",
    "v1 = np.dot(H, v0)\n",
    "v2 = np.dot(X, v1)\n",
    "v3 = np.dot(H, v2)\n",
    "print(v1)\n",
    "print()\n",
    "print(v2)\n",
    "print()\n",
    "print(v3)"
   ]
  },
  {
   "cell_type": "markdown",
   "id": "0154a15d-f0b0-418c-be85-162ab16b478b",
   "metadata": {},
   "source": [
    "## Solution 6: Composing quantum systems \n",
    "\n",
    "Using matrices and vectors, implement a model of the following circuit.\n",
    "## Solution\n",
    "First, we do the tensor product between both inicial states:\n",
    "$$ \\psi_{0} = \\ket{0} \\otimes \\ket{1} = \\begin{bmatrix} 1 \\\\ 0 \\end{bmatrix} \\otimes \\begin{bmatrix} 0 \\\\ 1 \\end{bmatrix} = \\begin{bmatrix}  \\end{bmatrix}$$\n",
    "Now, we aply the tensor product between two H matrixes and then aply it to the system:\n",
    "$$ \\psi_{1} = (H \\otimes H) * \\psi_{0} =\\frac{1}{2}*\\begin{bmatrix} 1&1&1&1 \\\\ 1&-1&1&-1 \\\\ 1&1&-1&-1 \\\\ 1&-1&-1&1 \\end{bmatrix}*\\begin{bmatrix} 0 \\\\ 1 \\\\ 0 \\\\ 0 \\end{bmatrix} = \\frac{1}{2}\\begin{bmatrix} 1 \\\\ -1 \\\\ 1 \\\\ -1 \\end{bmatrix}$$\n",
    "Next, we aply the matrix U to the system:\n",
    "$$ \\psi_{2} = U_{f} *\\psi_{1} =\\frac{1}{2}*\\begin{bmatrix} 0&1&0&0 \\\\ 1&0&0&0 \\\\ 0&0&1&0 \\\\ 0&0&0&1 \\end{bmatrix}*\\begin{bmatrix} 1 \\\\ -1 \\\\ 1 \\\\ -1 \\end{bmatrix} = \\frac{1}{2}\\begin{bmatrix} -1 \\\\ 1 \\\\ 1 \\\\ -1 \\end{bmatrix}$$\n",
    "Lastly, we make the tensor product between an H and I matrixes, then we aply it to the system:\n",
    "$$ \\psi_{3} = (H \\otimes I) *\\psi_{2} =(\\frac{1}{2})*(\\frac{1}{\\sqrt{2}})*\\begin{bmatrix} 1&0&1&0 \\\\ 0&1&0&1 \\\\ 1&0&-1&0 \\\\ 0&1&0&-1 \\end{bmatrix}*\\begin{bmatrix} -1 \\\\ 1 \\\\ 1 \\\\ -1 \\end{bmatrix} = \\frac{1}{2\\sqrt{2}}\\begin{bmatrix} 0 \\\\ 0 \\\\ 2 \\\\ -2 \\end{bmatrix} = \\frac{1}{\\sqrt{2}}*\\begin{bmatrix} 0 \\\\ 0 \\\\ 1 \\\\ -1 \\end{bmatrix}$$"
   ]
  },
  {
   "cell_type": "code",
   "execution_count": 56,
   "id": "f18569a9-a5c8-4a84-81bb-5f2b4a3c66c1",
   "metadata": {},
   "outputs": [
    {
     "name": "stdout",
     "output_type": "stream",
     "text": [
      "[[0]\n",
      " [1]\n",
      " [0]\n",
      " [0]]\n",
      "\n",
      "[[ 0.5]\n",
      " [-0.5]\n",
      " [ 0.5]\n",
      " [-0.5]]\n",
      "\n",
      "[[-0.5]\n",
      " [ 0.5]\n",
      " [ 0.5]\n",
      " [-0.5]]\n",
      "\n",
      "[[ 0.        ]\n",
      " [ 0.        ]\n",
      " [-0.70710678]\n",
      " [ 0.70710678]]\n"
     ]
    }
   ],
   "source": [
    "import numpy as np\n",
    "v00 = np.array([[1],[0]])\n",
    "v11 = np.array([[0],[1]])\n",
    "H = (1/(np.sqrt(2)))*np.array([[1, 1],[1, -1]])\n",
    "I = np.array([[1, 0],[0, 1]])\n",
    "HH = np.kron(H, H)\n",
    "#print(HH)\n",
    "#print()\n",
    "HI = np.kron(H, I)\n",
    "#print(HI)\n",
    "#print()\n",
    "U = np.array([[0, 1, 0, 0],[1, 0, 0, 0],[0, 0, 1, 0],[0, 0, 0, 1]])\n",
    "v0 = np.kron(v00, v11)\n",
    "v1 = np.dot(HH, v0)\n",
    "v2 = np.dot(U, v1)\n",
    "v3 = np.dot(HI, v2)\n",
    "print(v0)\n",
    "print()\n",
    "print(v1)\n",
    "print()\n",
    "print(v2)\n",
    "print()\n",
    "print(v3)"
   ]
  },
  {
   "cell_type": "code",
   "execution_count": null,
   "id": "cc75cf7e-27df-45ef-b882-5ca10c53b1e5",
   "metadata": {},
   "outputs": [],
   "source": []
  }
 ],
 "metadata": {
  "kernelspec": {
   "display_name": "Python 3 (ipykernel)",
   "language": "python",
   "name": "python3"
  },
  "language_info": {
   "codemirror_mode": {
    "name": "ipython",
    "version": 3
   },
   "file_extension": ".py",
   "mimetype": "text/x-python",
   "name": "python",
   "nbconvert_exporter": "python",
   "pygments_lexer": "ipython3",
   "version": "3.11.2"
  }
 },
 "nbformat": 4,
 "nbformat_minor": 5
}
